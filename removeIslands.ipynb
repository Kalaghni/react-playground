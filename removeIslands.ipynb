{
 "cells": [
  {
   "cell_type": "code",
   "execution_count": 2,
   "metadata": {},
   "outputs": [],
   "source": [
    "matrix = [\n",
    "    [1, 0, 0, 0, 0, 0],\n",
    "    [0, 1, 0, 1, 1, 1],\n",
    "    [0, 0, 1, 0, 1, 0],\n",
    "    [1, 1, 0, 0, 1, 0],\n",
    "    [1, 0, 1, 1, 0, 0],\n",
    "    [1, 0, 0, 0, 0, 1]\n",
    "]"
   ]
  },
  {
   "cell_type": "code",
   "execution_count": 5,
   "metadata": {},
   "outputs": [
    {
     "ename": "IndexError",
     "evalue": "list index out of range",
     "output_type": "error",
     "traceback": [
      "\u001b[0;31m---------------------------------------------------------------------------\u001b[0m",
      "\u001b[0;31mIndexError\u001b[0m                                Traceback (most recent call last)",
      "\u001b[1;32m/Users/joshwood/Workspace/react-playground/removeIslands.ipynb Cell 2'\u001b[0m in \u001b[0;36m<cell line: 1>\u001b[0;34m()\u001b[0m\n\u001b[1;32m      <a href='vscode-notebook-cell:/Users/joshwood/Workspace/react-playground/removeIslands.ipynb#ch0000001?line=1'>2</a>\u001b[0m     \u001b[39mfor\u001b[39;00m y \u001b[39min\u001b[39;00m \u001b[39mrange\u001b[39m(\u001b[39m6\u001b[39m):\n\u001b[1;32m      <a href='vscode-notebook-cell:/Users/joshwood/Workspace/react-playground/removeIslands.ipynb#ch0000001?line=3'>4</a>\u001b[0m         \u001b[39mif\u001b[39;00m matrix[x][y] \u001b[39m==\u001b[39m \u001b[39m1\u001b[39m:\n\u001b[0;32m----> <a href='vscode-notebook-cell:/Users/joshwood/Workspace/react-playground/removeIslands.ipynb#ch0000001?line=4'>5</a>\u001b[0m             \u001b[39mif\u001b[39;00m matrix[x \u001b[39m+\u001b[39m \u001b[39m1\u001b[39m][y] \u001b[39m==\u001b[39m \u001b[39m0\u001b[39m \u001b[39mand\u001b[39;00m matrix[x][y \u001b[39m+\u001b[39;49m \u001b[39m1\u001b[39;49m] \u001b[39m==\u001b[39m \u001b[39m0\u001b[39m \u001b[39mand\u001b[39;00m matrix[x \u001b[39m-\u001b[39m \u001b[39m1\u001b[39m][y] \u001b[39m==\u001b[39m \u001b[39m0\u001b[39m \u001b[39mand\u001b[39;00m matrix[x][y \u001b[39m-\u001b[39m \u001b[39m1\u001b[39m] \u001b[39m==\u001b[39m \u001b[39m0\u001b[39m:\n\u001b[1;32m      <a href='vscode-notebook-cell:/Users/joshwood/Workspace/react-playground/removeIslands.ipynb#ch0000001?line=5'>6</a>\u001b[0m                 matrix[x][y] \u001b[39m=\u001b[39m \u001b[39m0\u001b[39m\n\u001b[1;32m      <a href='vscode-notebook-cell:/Users/joshwood/Workspace/react-playground/removeIslands.ipynb#ch0000001?line=6'>7</a>\u001b[0m \u001b[39mprint\u001b[39m(matrix)\n",
      "\u001b[0;31mIndexError\u001b[0m: list index out of range"
     ]
    }
   ],
   "source": [
    "\n",
    "for x in range(6):\n",
    "    for y in range(6):\n",
    "        if matrix[x][y] == 1 and not (y == 0 or x == 0 or y == 5 or x == 5):\n",
    "            if matrix[x + 1][y] == 0 and matrix[x][y + 1] == 0 and matrix[x - 1][y] == 0 and matrix[x][y - 1] == 0:\n",
    "                matrix[x][y] = 0\n",
    "print(matrix)\n",
    "\n"
   ]
  }
 ],
 "metadata": {
  "kernelspec": {
   "display_name": "Python 3.8.9 64-bit",
   "language": "python",
   "name": "python3"
  },
  "language_info": {
   "codemirror_mode": {
    "name": "ipython",
    "version": 3
   },
   "file_extension": ".py",
   "mimetype": "text/x-python",
   "name": "python",
   "nbconvert_exporter": "python",
   "pygments_lexer": "ipython3",
   "version": "3.8.9"
  },
  "orig_nbformat": 4,
  "vscode": {
   "interpreter": {
    "hash": "31f2aee4e71d21fbe5cf8b01ff0e069b9275f58929596ceb00d14d90e3e16cd6"
   }
  }
 },
 "nbformat": 4,
 "nbformat_minor": 2
}
